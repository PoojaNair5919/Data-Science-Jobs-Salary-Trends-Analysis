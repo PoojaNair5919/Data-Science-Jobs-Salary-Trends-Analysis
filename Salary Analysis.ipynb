{
 "cells": [
  {
   "cell_type": "code",
   "execution_count": 1,
   "id": "f7b2e554-677d-4ab7-82e4-e6c1a2786c6b",
   "metadata": {},
   "outputs": [],
   "source": [
    "import pandas as pd\n",
    "import numpy as np"
   ]
  },
  {
   "cell_type": "code",
   "execution_count": 2,
   "id": "b6f62f9c-aa77-4563-85a6-c44be06922d2",
   "metadata": {},
   "outputs": [],
   "source": [
    "df = pd.read_csv(\"salaries.csv\")"
   ]
  },
  {
   "cell_type": "code",
   "execution_count": 3,
   "id": "dcb4a4a0-e887-41f4-949d-bf2f80438645",
   "metadata": {},
   "outputs": [
    {
     "data": {
      "text/html": [
       "<div>\n",
       "<style scoped>\n",
       "    .dataframe tbody tr th:only-of-type {\n",
       "        vertical-align: middle;\n",
       "    }\n",
       "\n",
       "    .dataframe tbody tr th {\n",
       "        vertical-align: top;\n",
       "    }\n",
       "\n",
       "    .dataframe thead th {\n",
       "        text-align: right;\n",
       "    }\n",
       "</style>\n",
       "<table border=\"1\" class=\"dataframe\">\n",
       "  <thead>\n",
       "    <tr style=\"text-align: right;\">\n",
       "      <th></th>\n",
       "      <th>work_year</th>\n",
       "      <th>experience_level</th>\n",
       "      <th>employment_type</th>\n",
       "      <th>job_title</th>\n",
       "      <th>salary</th>\n",
       "      <th>salary_currency</th>\n",
       "      <th>salary_in_usd</th>\n",
       "      <th>employee_residence</th>\n",
       "      <th>remote_ratio</th>\n",
       "      <th>company_location</th>\n",
       "      <th>company_size</th>\n",
       "    </tr>\n",
       "  </thead>\n",
       "  <tbody>\n",
       "    <tr>\n",
       "      <th>0</th>\n",
       "      <td>2025</td>\n",
       "      <td>MI</td>\n",
       "      <td>FT</td>\n",
       "      <td>Analyst</td>\n",
       "      <td>142000</td>\n",
       "      <td>USD</td>\n",
       "      <td>142000</td>\n",
       "      <td>US</td>\n",
       "      <td>0</td>\n",
       "      <td>US</td>\n",
       "      <td>M</td>\n",
       "    </tr>\n",
       "    <tr>\n",
       "      <th>1</th>\n",
       "      <td>2025</td>\n",
       "      <td>MI</td>\n",
       "      <td>FT</td>\n",
       "      <td>Analyst</td>\n",
       "      <td>87000</td>\n",
       "      <td>USD</td>\n",
       "      <td>87000</td>\n",
       "      <td>US</td>\n",
       "      <td>0</td>\n",
       "      <td>US</td>\n",
       "      <td>M</td>\n",
       "    </tr>\n",
       "    <tr>\n",
       "      <th>2</th>\n",
       "      <td>2025</td>\n",
       "      <td>SE</td>\n",
       "      <td>FT</td>\n",
       "      <td>Data Quality Lead</td>\n",
       "      <td>218700</td>\n",
       "      <td>USD</td>\n",
       "      <td>218700</td>\n",
       "      <td>US</td>\n",
       "      <td>0</td>\n",
       "      <td>US</td>\n",
       "      <td>M</td>\n",
       "    </tr>\n",
       "    <tr>\n",
       "      <th>3</th>\n",
       "      <td>2025</td>\n",
       "      <td>SE</td>\n",
       "      <td>FT</td>\n",
       "      <td>Data Quality Lead</td>\n",
       "      <td>163200</td>\n",
       "      <td>USD</td>\n",
       "      <td>163200</td>\n",
       "      <td>US</td>\n",
       "      <td>0</td>\n",
       "      <td>US</td>\n",
       "      <td>M</td>\n",
       "    </tr>\n",
       "    <tr>\n",
       "      <th>4</th>\n",
       "      <td>2025</td>\n",
       "      <td>MI</td>\n",
       "      <td>FT</td>\n",
       "      <td>Data Quality Specialist</td>\n",
       "      <td>121524</td>\n",
       "      <td>USD</td>\n",
       "      <td>121524</td>\n",
       "      <td>US</td>\n",
       "      <td>0</td>\n",
       "      <td>US</td>\n",
       "      <td>M</td>\n",
       "    </tr>\n",
       "  </tbody>\n",
       "</table>\n",
       "</div>"
      ],
      "text/plain": [
       "   work_year experience_level employment_type                job_title  \\\n",
       "0       2025               MI              FT                  Analyst   \n",
       "1       2025               MI              FT                  Analyst   \n",
       "2       2025               SE              FT        Data Quality Lead   \n",
       "3       2025               SE              FT        Data Quality Lead   \n",
       "4       2025               MI              FT  Data Quality Specialist   \n",
       "\n",
       "   salary salary_currency  salary_in_usd employee_residence  remote_ratio  \\\n",
       "0  142000             USD         142000                 US             0   \n",
       "1   87000             USD          87000                 US             0   \n",
       "2  218700             USD         218700                 US             0   \n",
       "3  163200             USD         163200                 US             0   \n",
       "4  121524             USD         121524                 US             0   \n",
       "\n",
       "  company_location company_size  \n",
       "0               US            M  \n",
       "1               US            M  \n",
       "2               US            M  \n",
       "3               US            M  \n",
       "4               US            M  "
      ]
     },
     "execution_count": 3,
     "metadata": {},
     "output_type": "execute_result"
    }
   ],
   "source": [
    "df.head()"
   ]
  },
  {
   "cell_type": "code",
   "execution_count": 4,
   "id": "e841b049-b228-4a0a-aa71-a89864cf719b",
   "metadata": {},
   "outputs": [
    {
     "data": {
      "text/html": [
       "<div>\n",
       "<style scoped>\n",
       "    .dataframe tbody tr th:only-of-type {\n",
       "        vertical-align: middle;\n",
       "    }\n",
       "\n",
       "    .dataframe tbody tr th {\n",
       "        vertical-align: top;\n",
       "    }\n",
       "\n",
       "    .dataframe thead th {\n",
       "        text-align: right;\n",
       "    }\n",
       "</style>\n",
       "<table border=\"1\" class=\"dataframe\">\n",
       "  <thead>\n",
       "    <tr style=\"text-align: right;\">\n",
       "      <th></th>\n",
       "      <th>work_year</th>\n",
       "      <th>experience_level</th>\n",
       "      <th>employment_type</th>\n",
       "      <th>job_title</th>\n",
       "      <th>salary</th>\n",
       "      <th>salary_currency</th>\n",
       "      <th>salary_in_usd</th>\n",
       "      <th>employee_residence</th>\n",
       "      <th>remote_ratio</th>\n",
       "      <th>company_location</th>\n",
       "      <th>company_size</th>\n",
       "    </tr>\n",
       "  </thead>\n",
       "  <tbody>\n",
       "    <tr>\n",
       "      <th>146343</th>\n",
       "      <td>2020</td>\n",
       "      <td>SE</td>\n",
       "      <td>FT</td>\n",
       "      <td>Data Scientist</td>\n",
       "      <td>412000</td>\n",
       "      <td>USD</td>\n",
       "      <td>412000</td>\n",
       "      <td>US</td>\n",
       "      <td>100</td>\n",
       "      <td>US</td>\n",
       "      <td>L</td>\n",
       "    </tr>\n",
       "    <tr>\n",
       "      <th>146344</th>\n",
       "      <td>2021</td>\n",
       "      <td>MI</td>\n",
       "      <td>FT</td>\n",
       "      <td>Principal Data Scientist</td>\n",
       "      <td>151000</td>\n",
       "      <td>USD</td>\n",
       "      <td>151000</td>\n",
       "      <td>US</td>\n",
       "      <td>100</td>\n",
       "      <td>US</td>\n",
       "      <td>L</td>\n",
       "    </tr>\n",
       "    <tr>\n",
       "      <th>146345</th>\n",
       "      <td>2020</td>\n",
       "      <td>EN</td>\n",
       "      <td>FT</td>\n",
       "      <td>Data Scientist</td>\n",
       "      <td>105000</td>\n",
       "      <td>USD</td>\n",
       "      <td>105000</td>\n",
       "      <td>US</td>\n",
       "      <td>100</td>\n",
       "      <td>US</td>\n",
       "      <td>S</td>\n",
       "    </tr>\n",
       "    <tr>\n",
       "      <th>146346</th>\n",
       "      <td>2020</td>\n",
       "      <td>EN</td>\n",
       "      <td>CT</td>\n",
       "      <td>Business Data Analyst</td>\n",
       "      <td>100000</td>\n",
       "      <td>USD</td>\n",
       "      <td>100000</td>\n",
       "      <td>US</td>\n",
       "      <td>100</td>\n",
       "      <td>US</td>\n",
       "      <td>L</td>\n",
       "    </tr>\n",
       "    <tr>\n",
       "      <th>146347</th>\n",
       "      <td>2021</td>\n",
       "      <td>SE</td>\n",
       "      <td>FT</td>\n",
       "      <td>Data Scientist</td>\n",
       "      <td>7000000</td>\n",
       "      <td>INR</td>\n",
       "      <td>94665</td>\n",
       "      <td>IN</td>\n",
       "      <td>50</td>\n",
       "      <td>IN</td>\n",
       "      <td>L</td>\n",
       "    </tr>\n",
       "  </tbody>\n",
       "</table>\n",
       "</div>"
      ],
      "text/plain": [
       "        work_year experience_level employment_type                 job_title  \\\n",
       "146343       2020               SE              FT            Data Scientist   \n",
       "146344       2021               MI              FT  Principal Data Scientist   \n",
       "146345       2020               EN              FT            Data Scientist   \n",
       "146346       2020               EN              CT     Business Data Analyst   \n",
       "146347       2021               SE              FT            Data Scientist   \n",
       "\n",
       "         salary salary_currency  salary_in_usd employee_residence  \\\n",
       "146343   412000             USD         412000                 US   \n",
       "146344   151000             USD         151000                 US   \n",
       "146345   105000             USD         105000                 US   \n",
       "146346   100000             USD         100000                 US   \n",
       "146347  7000000             INR          94665                 IN   \n",
       "\n",
       "        remote_ratio company_location company_size  \n",
       "146343           100               US            L  \n",
       "146344           100               US            L  \n",
       "146345           100               US            S  \n",
       "146346           100               US            L  \n",
       "146347            50               IN            L  "
      ]
     },
     "execution_count": 4,
     "metadata": {},
     "output_type": "execute_result"
    }
   ],
   "source": [
    "df.tail()"
   ]
  },
  {
   "cell_type": "code",
   "execution_count": 5,
   "id": "50c4dbe9-3065-4b6c-bef7-b38d133a7aa3",
   "metadata": {},
   "outputs": [
    {
     "data": {
      "text/html": [
       "<div>\n",
       "<style scoped>\n",
       "    .dataframe tbody tr th:only-of-type {\n",
       "        vertical-align: middle;\n",
       "    }\n",
       "\n",
       "    .dataframe tbody tr th {\n",
       "        vertical-align: top;\n",
       "    }\n",
       "\n",
       "    .dataframe thead th {\n",
       "        text-align: right;\n",
       "    }\n",
       "</style>\n",
       "<table border=\"1\" class=\"dataframe\">\n",
       "  <thead>\n",
       "    <tr style=\"text-align: right;\">\n",
       "      <th></th>\n",
       "      <th>work_year</th>\n",
       "      <th>salary</th>\n",
       "      <th>salary_in_usd</th>\n",
       "      <th>remote_ratio</th>\n",
       "    </tr>\n",
       "  </thead>\n",
       "  <tbody>\n",
       "    <tr>\n",
       "      <th>count</th>\n",
       "      <td>146348.000000</td>\n",
       "      <td>1.463480e+05</td>\n",
       "      <td>146348.000000</td>\n",
       "      <td>146348.000000</td>\n",
       "    </tr>\n",
       "    <tr>\n",
       "      <th>mean</th>\n",
       "      <td>2024.415646</td>\n",
       "      <td>1.629267e+05</td>\n",
       "      <td>157485.290691</td>\n",
       "      <td>20.901550</td>\n",
       "    </tr>\n",
       "    <tr>\n",
       "      <th>std</th>\n",
       "      <td>0.674981</td>\n",
       "      <td>2.106091e+05</td>\n",
       "      <td>74134.134223</td>\n",
       "      <td>40.591728</td>\n",
       "    </tr>\n",
       "    <tr>\n",
       "      <th>min</th>\n",
       "      <td>2020.000000</td>\n",
       "      <td>1.400000e+04</td>\n",
       "      <td>15000.000000</td>\n",
       "      <td>0.000000</td>\n",
       "    </tr>\n",
       "    <tr>\n",
       "      <th>25%</th>\n",
       "      <td>2024.000000</td>\n",
       "      <td>1.060000e+05</td>\n",
       "      <td>106000.000000</td>\n",
       "      <td>0.000000</td>\n",
       "    </tr>\n",
       "    <tr>\n",
       "      <th>50%</th>\n",
       "      <td>2025.000000</td>\n",
       "      <td>1.470000e+05</td>\n",
       "      <td>146100.000000</td>\n",
       "      <td>0.000000</td>\n",
       "    </tr>\n",
       "    <tr>\n",
       "      <th>75%</th>\n",
       "      <td>2025.000000</td>\n",
       "      <td>1.990000e+05</td>\n",
       "      <td>198000.000000</td>\n",
       "      <td>0.000000</td>\n",
       "    </tr>\n",
       "    <tr>\n",
       "      <th>max</th>\n",
       "      <td>2025.000000</td>\n",
       "      <td>3.040000e+07</td>\n",
       "      <td>800000.000000</td>\n",
       "      <td>100.000000</td>\n",
       "    </tr>\n",
       "  </tbody>\n",
       "</table>\n",
       "</div>"
      ],
      "text/plain": [
       "           work_year        salary  salary_in_usd   remote_ratio\n",
       "count  146348.000000  1.463480e+05  146348.000000  146348.000000\n",
       "mean     2024.415646  1.629267e+05  157485.290691      20.901550\n",
       "std         0.674981  2.106091e+05   74134.134223      40.591728\n",
       "min      2020.000000  1.400000e+04   15000.000000       0.000000\n",
       "25%      2024.000000  1.060000e+05  106000.000000       0.000000\n",
       "50%      2025.000000  1.470000e+05  146100.000000       0.000000\n",
       "75%      2025.000000  1.990000e+05  198000.000000       0.000000\n",
       "max      2025.000000  3.040000e+07  800000.000000     100.000000"
      ]
     },
     "execution_count": 5,
     "metadata": {},
     "output_type": "execute_result"
    }
   ],
   "source": [
    "df.describe()"
   ]
  },
  {
   "cell_type": "code",
   "execution_count": 6,
   "id": "a1dcf87f-b942-45ef-9e57-c8bfb0dfb8b2",
   "metadata": {},
   "outputs": [
    {
     "name": "stdout",
     "output_type": "stream",
     "text": [
      "<class 'pandas.core.frame.DataFrame'>\n",
      "RangeIndex: 146348 entries, 0 to 146347\n",
      "Data columns (total 11 columns):\n",
      " #   Column              Non-Null Count   Dtype \n",
      "---  ------              --------------   ----- \n",
      " 0   work_year           146348 non-null  int64 \n",
      " 1   experience_level    146348 non-null  object\n",
      " 2   employment_type     146348 non-null  object\n",
      " 3   job_title           146348 non-null  object\n",
      " 4   salary              146348 non-null  int64 \n",
      " 5   salary_currency     146348 non-null  object\n",
      " 6   salary_in_usd       146348 non-null  int64 \n",
      " 7   employee_residence  146348 non-null  object\n",
      " 8   remote_ratio        146348 non-null  int64 \n",
      " 9   company_location    146348 non-null  object\n",
      " 10  company_size        146348 non-null  object\n",
      "dtypes: int64(4), object(7)\n",
      "memory usage: 12.3+ MB\n"
     ]
    }
   ],
   "source": [
    "df.info()"
   ]
  },
  {
   "cell_type": "code",
   "execution_count": 7,
   "id": "56934d51-4697-4070-93ac-023c382921b6",
   "metadata": {},
   "outputs": [
    {
     "data": {
      "text/plain": [
       "array([  0, 100,  50], dtype=int64)"
      ]
     },
     "execution_count": 7,
     "metadata": {},
     "output_type": "execute_result"
    }
   ],
   "source": [
    "df['remote_ratio'].unique()"
   ]
  },
  {
   "cell_type": "code",
   "execution_count": 8,
   "id": "6b81f6f0-7b25-4766-bcf4-e029dfbb9d03",
   "metadata": {},
   "outputs": [
    {
     "data": {
      "text/plain": [
       "array([2025, 2024, 2023, 2022, 2020, 2021], dtype=int64)"
      ]
     },
     "execution_count": 8,
     "metadata": {},
     "output_type": "execute_result"
    }
   ],
   "source": [
    "df['work_year'].unique()"
   ]
  },
  {
   "cell_type": "code",
   "execution_count": 9,
   "id": "b9395b44-f38b-4b6f-aa22-c0cf95590762",
   "metadata": {},
   "outputs": [
    {
     "data": {
      "text/plain": [
       "array(['MI', 'SE', 'EX', 'EN'], dtype=object)"
      ]
     },
     "execution_count": 9,
     "metadata": {},
     "output_type": "execute_result"
    }
   ],
   "source": [
    "df['experience_level'].unique()"
   ]
  },
  {
   "cell_type": "code",
   "execution_count": 10,
   "id": "fe04d303-16b1-43fb-b943-5b806549f47b",
   "metadata": {},
   "outputs": [
    {
     "data": {
      "text/plain": [
       "array(['FT', 'CT', 'PT', 'FL'], dtype=object)"
      ]
     },
     "execution_count": 10,
     "metadata": {},
     "output_type": "execute_result"
    }
   ],
   "source": [
    "df['employment_type'].unique()"
   ]
  },
  {
   "cell_type": "code",
   "execution_count": 11,
   "id": "3ba9917b-9fb3-4748-8910-165fb8bb17dc",
   "metadata": {},
   "outputs": [
    {
     "data": {
      "text/plain": [
       "array(['Analyst', 'Data Quality Lead', 'Data Quality Specialist',\n",
       "       'Data Modeler', 'Software Engineer', 'Machine Learning Engineer',\n",
       "       'Manager', 'Developer', 'Engineer', 'Head of Data', 'Director',\n",
       "       'Data Scientist', 'Data Developer', 'Research Scientist',\n",
       "       'Product Owner', 'Data Analyst', 'Data Engineer', 'AI Engineer',\n",
       "       'Architect', 'Data Architect', 'Economist',\n",
       "       'Software Development Engineer', 'Product Manager',\n",
       "       'Solutions Architect', 'Backend Engineer', 'DevOps Engineer',\n",
       "       'Systems Engineer', 'Consultant', 'Research Assistant',\n",
       "       'Solutions Engineer', 'Researcher', 'Analytics Manager',\n",
       "       'Engineering Manager', 'Solution Engineer', 'Research Specialist',\n",
       "       'Lead Engineer', 'Applied Scientist', 'Data Operations',\n",
       "       'Solution Architect', 'Business Intelligence Engineer',\n",
       "       'SAS Developer', 'Data Governance Manager',\n",
       "       'Business Intelligence Lead', 'Software Developer',\n",
       "       'System Engineer', 'Staff Engineer', 'Principal Engineer',\n",
       "       'Data Integration Lead', 'Data Governance', 'Data Manager',\n",
       "       'Data Management', 'Data Management Lead', 'Application Developer',\n",
       "       'Analytics Lead', 'Tech Lead', 'Associate', 'Full Stack Developer',\n",
       "       'AI Solution Director', 'Analytics Engineer',\n",
       "       'Data Management Specialist', 'Cdd', 'Data Analytics Manager',\n",
       "       'Postdoctoral Researcher', 'Business Analyst',\n",
       "       'Machine Learning Developer', 'Data Quality Engineer',\n",
       "       'Data Integration Engineer', 'Data Specialist',\n",
       "       'Research Associate', 'Technical Lead', 'Quantitative Analyst',\n",
       "       'Data Infrastructure Engineer', 'Data Strategist',\n",
       "       'Member of Technical Staff', 'Research Engineer',\n",
       "       'Automation Engineer', 'BI Engineer', 'Product Designer',\n",
       "       'Data Analysis', 'BI Analyst', 'Platform Engineer',\n",
       "       'Technical Recruiter', 'Business Intelligence Analyst',\n",
       "       'Cloud Engineer', 'ML Scientist', 'Data Visualization Developer',\n",
       "       'Psychometrician', 'Forward Deployed Engineer', 'Content Writer',\n",
       "       'Statistician', 'Executive', 'Business Intelligence Developer',\n",
       "       'Statistical Programmer', 'Data Lead', 'Data Visualization Expert',\n",
       "       'Data Management Analyst', 'Technical Architect',\n",
       "       'Machine Learning Researcher', 'Actuary',\n",
       "       'Machine Learning Scientist', 'Data Analytics Lead',\n",
       "       'Data and Reporting Professional', 'Data Visualization Specialist',\n",
       "       'Data Platform Engineer', 'Post Doctoral Fellow',\n",
       "       'Prompt Engineer', 'AI Developer', 'Advanced Analytics Manager',\n",
       "       'Data Governance Analyst', 'Data Product Owner',\n",
       "       'Data Operations Specialist', 'Power BI Developer', 'BI Developer',\n",
       "       'AI Researcher', 'Principal Scientist', 'Software Architect',\n",
       "       'Account Executive', 'Algorithm Developer', 'Power BI Specialist',\n",
       "       'Bioinformatician', 'AI Lead', 'Insight Analyst',\n",
       "       'Research Fellow', 'Encounter Data Management Professional',\n",
       "       'Head of AI', 'Solution Specialist', 'Site Reliability Engineer',\n",
       "       'Data Analist', 'Technical Support Engineer',\n",
       "       'Business Development Representative', 'Data Analytics Specialist',\n",
       "       'AI Architect', 'Java Developer', 'Data Product Manager',\n",
       "       'Trainee', 'Sales Engineer', 'Head of Marketing',\n",
       "       'Data Integrity Specialist', 'Analytics Specialist',\n",
       "       'Data Governance Lead', 'MLOps Engineer', 'Decision Scientist',\n",
       "       'Data Quality Analyst', 'Data Steward', 'AI Scientist',\n",
       "       'AI Solutions Lead', 'AI Specialist', 'Full Stack Engineer',\n",
       "       'Product Analyst', 'Research Professional',\n",
       "       'Director of Machine Learning', 'Computer Vision Engineer',\n",
       "       'Data Strategy Lead', 'Technical Consultant',\n",
       "       'Data Management Officer', 'Postdoctoral Fellow',\n",
       "       'Artificial Intelligence Engineer', 'Principal Researcher',\n",
       "       'Director of Product Management', 'ETL Developer',\n",
       "       'Postdoctoral Scholar', 'Computational Biologist',\n",
       "       'Product Specialist', 'Bioinformatics Scientist',\n",
       "       'Data Visualization Engineer', 'Quantitative Researcher',\n",
       "       'AIRS Solutions Specialist', 'Machine Learning Lead',\n",
       "       'Quantitative Trader', 'Machine Learning Architect', 'QA Engineer',\n",
       "       'Databricks Engineer', 'Data Integrator',\n",
       "       'Data Management Professional', 'Quantitative Risk Analyst',\n",
       "       'AI Data Scientist', 'Business Intelligence', 'QA Tutor Reviewer',\n",
       "       'Data Team Lead', 'Python Developer', 'Technical Specialist',\n",
       "       'Machine Learning Specialist', 'Data Management Technician',\n",
       "       'Power BI Expert', 'Data Governance Specialist', 'AI Product Lead',\n",
       "       'Director of Data', 'Commercial Counsel', 'Security Researcher',\n",
       "       'Data Integration Specialist', 'Director of Engineering',\n",
       "       'DevOps Lead', 'Data & Analytics Specialist',\n",
       "       'Data Operations Manager', 'Data Operations Analyst',\n",
       "       'Data Operations Engineer', 'Conversational AI Designer',\n",
       "       'AI Product Specialist', 'Clinical Aide', 'Web Developer',\n",
       "       'Data Visualization Lead', 'Systems Administrator',\n",
       "       'Postdoctoral Research Fellow', 'Data Management Associate',\n",
       "       'Fraud Data Analyst', 'Admin & Data Analyst', 'Data Engineer 4',\n",
       "       'AI Governance Lead', 'Power BI', 'Cloud Database Administrator',\n",
       "       'IT Enterprise Data Architect', 'Copywriter',\n",
       "       'Principal Statistical Programmer', 'Marketing Science Partner',\n",
       "       'DataOps Engineer', 'Sales Development Representative',\n",
       "       'Data Product Lead', 'Data Operator', 'Data Reporter',\n",
       "       'Bear Robotics', 'Business Intelligence Specialist',\n",
       "       'Creative Technologist', 'Big Data Developer',\n",
       "       'Cloud Database Engineer', 'Tableau Developer',\n",
       "       'Bioinformatics Specialist', 'Computational Scientist',\n",
       "       'Data Governance Engineer', 'Data Operations Lead',\n",
       "       'Quantitative Developer', 'AI Content Writer',\n",
       "       'AI Governance Specialist', 'AI Research Scientist',\n",
       "       'Data & Analytics Analyst', 'Power BI Administrator',\n",
       "       'Data Consultant', 'Research Analyst', 'Cheminformatics Scientist',\n",
       "       'Data Governance Consultant', 'Technical Support Specialist',\n",
       "       'Cientista de Dados', 'AI Tech Lead', 'System Administrator',\n",
       "       'AI Strategist', 'AI Solutions Specialist',\n",
       "       'Enterprise Account Executive', 'Software Development Director',\n",
       "       'Advanced Data Analyst', 'Head of Machine Learning',\n",
       "       'AI Engineering Lead', 'Data Reporting Specialist', 'Quant Trader',\n",
       "       'Integration Specialist', 'Database Administrator',\n",
       "       'Backend Developer', 'Technical Writer', 'AI Product Owner',\n",
       "       'Head of Applied AI', 'Salesforce Administrator',\n",
       "       'Chatbot Developer', 'Cloud Developer',\n",
       "       'Data Analytics Business Partner', 'Data Quality Expert',\n",
       "       'BI & Data Analyst', 'Network Engineer', 'Risk Analyst',\n",
       "       'Cloud Architect', 'Data Scientist Manager', 'Robotics Engineer',\n",
       "       'Data Management Consultant', 'Stage',\n",
       "       'Data and Analytics Consultant', 'Alternance', 'Big Data Engineer',\n",
       "       'LLM Engineer', 'Data Integration Developer', 'Data Archivist',\n",
       "       'Developer Advocate', 'RPA Developer', 'Research Team Lead',\n",
       "       'Data Analytics Developer', 'Quant Options Trader',\n",
       "       'Data Management Expert', 'Scala Spark Developer',\n",
       "       'Business Intelligence Manager', 'Data Scientist Expert',\n",
       "       'Customer Success Engineer', 'Data Visualization Designer',\n",
       "       'Experienced Quantitative Strategist', 'Tech Lead Data',\n",
       "       'Data and Reporting Analyst', 'AI Programmer',\n",
       "       'Data Analysis Specialist', 'GenAI Architect',\n",
       "       'Data Reporting Analyst', 'Data Integrity Analyst',\n",
       "       'Data Visualization Analyst', 'Lead Data Analysis',\n",
       "       'Customer Success Manager', 'Actuarial Analyst',\n",
       "       'AI Data Engineer', 'Technology Integrator',\n",
       "       'Principal Software Architect', 'Master Data Management',\n",
       "       'Staff Data Scientist', 'AI Machine Learning Engineer',\n",
       "       'Lead Analyst', 'Data Analytics Consultant',\n",
       "       'Data Scientist Associate', 'Clinical Data Operator',\n",
       "       'Research Data Manager', 'Applied Research Scientist',\n",
       "       'Lead Data Management', 'Data Integration Analyst',\n",
       "       'Safety Data Management Specialist', 'Big Data Analyst',\n",
       "       'Pricing Analyst', 'Lead Data Engineer', 'AI Engineering Manager',\n",
       "       'Data Management Coordinator', 'Analytics Analyst',\n",
       "       'Controls Engineer', 'Machine Learning Tech Lead',\n",
       "       'Business Development Manager', 'Business Insights Manager',\n",
       "       'Platform Data Engineer',\n",
       "       'Principal Application Delivery Consultant',\n",
       "       'Data Governance Architect', 'Power BI Consultant',\n",
       "       'Backend Software Engineer', 'AI Product Manager',\n",
       "       'Data Operations Associate', 'ML Infrastructure Engineer',\n",
       "       'Fullstack Engineer', 'Machine Learning Quality Engineer',\n",
       "       'Security Engineer', 'Infrastructure Engineer',\n",
       "       'Machine Learning Performance Engineer',\n",
       "       'Data Analytics Associate', 'Power BI Architect',\n",
       "       'Machine Learning Platform Engineer', 'AI Solution Architect',\n",
       "       'Data Scientist Lead', 'Machine Vision Engineer',\n",
       "       'Machine Learning Model Engineer', 'Marketing Analyst',\n",
       "       'Data Management Manager', 'Marketing Analytics Manager',\n",
       "       'Applied AI ML Lead', 'Data Strategy Manager',\n",
       "       'Machine Learning Manager', 'Data Product Analyst',\n",
       "       'Data Quality Manager', 'Elasticsearch Administrator',\n",
       "       'Machine Learning Infrastructure Engineer', 'People Data Analyst',\n",
       "       'Frontend Engineer', 'NLP Engineer', 'Data Analytics Team Lead',\n",
       "       'Machine Learning Modeler', 'Data Integration Coordinator',\n",
       "       'Head of Business Intelligence', 'ETL Engineer',\n",
       "       'AI Research Engineer', 'Business Intelligence Consultant',\n",
       "       'Robotics Software Engineer', 'AI Software Engineer',\n",
       "       'Lead AI Engineer', 'AI Software Development Engineer',\n",
       "       'Master Data Specialist', 'Consultant Data Engineer',\n",
       "       'Manager Data Management', 'Director of Business Intelligence',\n",
       "       'Lead Data Scientist', 'CRM Data Analyst', 'BI Data Analyst',\n",
       "       'Applied Data Scientist', 'Data DevOps Engineer',\n",
       "       'Quantitative Research Analyst', 'Lead Machine Learning Engineer',\n",
       "       'Machine Learning Research Engineer', 'Data Analyst Lead',\n",
       "       'Data Pipeline Engineer', 'Lead Data Analyst',\n",
       "       'Business Data Analyst', 'Marketing Data Scientist',\n",
       "       'Deep Learning Engineer', 'Financial Data Analyst',\n",
       "       'Azure Data Engineer', 'Principal Data Scientist',\n",
       "       'Staff Data Analyst', 'Machine Learning Software Engineer',\n",
       "       'Applied Machine Learning Scientist',\n",
       "       'Principal Machine Learning Engineer', 'Principal Data Engineer',\n",
       "       'Staff Machine Learning Engineer',\n",
       "       'Business Intelligence Data Analyst', 'Finance Data Analyst',\n",
       "       'Software Data Engineer', 'Compliance Data Analyst',\n",
       "       'Cloud Data Engineer', 'Analytics Engineering Manager',\n",
       "       'AWS Data Architect', 'Product Data Analyst',\n",
       "       'Autonomous Vehicle Technician', 'Sales Data Analyst',\n",
       "       'Applied Machine Learning Engineer', 'BI Data Engineer',\n",
       "       'Deep Learning Researcher', 'Big Data Architect',\n",
       "       'Computer Vision Software Engineer', 'Marketing Data Engineer',\n",
       "       'Data Science Tech Lead', 'Marketing Data Analyst',\n",
       "       'Principal Data Architect', 'Data Analytics Engineer',\n",
       "       'Cloud Data Architect', 'Principal Data Analyst'], dtype=object)"
      ]
     },
     "execution_count": 11,
     "metadata": {},
     "output_type": "execute_result"
    }
   ],
   "source": [
    "df['job_title'].unique()"
   ]
  },
  {
   "cell_type": "code",
   "execution_count": 12,
   "id": "7a05cc83-b784-4bcd-aadd-31ec2f042aa2",
   "metadata": {},
   "outputs": [
    {
     "data": {
      "text/plain": [
       "array([142000,  87000, 218700, ..., 138350, 423000, 412000], dtype=int64)"
      ]
     },
     "execution_count": 12,
     "metadata": {},
     "output_type": "execute_result"
    }
   ],
   "source": [
    "df['salary'].unique()"
   ]
  },
  {
   "cell_type": "code",
   "execution_count": 13,
   "id": "ac6ccb34-9d0c-4083-9d87-9b058283fe0b",
   "metadata": {},
   "outputs": [
    {
     "data": {
      "text/plain": [
       "array(['USD', 'GBP', 'CHF', 'EUR', 'SGD', 'CAD', 'CZK', 'INR', 'PLN',\n",
       "       'NOK', 'MXN', 'PHP', 'JPY', 'HUF', 'AUD', 'TWD', 'BRL', 'ZAR',\n",
       "       'DKK', 'ILS', 'TRY', 'SEK', 'NZD', 'HKD', 'THB', 'CLP'],\n",
       "      dtype=object)"
      ]
     },
     "execution_count": 13,
     "metadata": {},
     "output_type": "execute_result"
    }
   ],
   "source": [
    "df['salary_currency'].unique()"
   ]
  },
  {
   "cell_type": "code",
   "execution_count": 14,
   "id": "bbca3b52-bace-430c-ab6a-145c099e7b65",
   "metadata": {},
   "outputs": [
    {
     "data": {
      "text/plain": [
       "array([142000,  87000, 218700, ...,  28369, 412000,  94665], dtype=int64)"
      ]
     },
     "execution_count": 14,
     "metadata": {},
     "output_type": "execute_result"
    }
   ],
   "source": [
    "df['salary_in_usd'].unique()"
   ]
  },
  {
   "cell_type": "code",
   "execution_count": 15,
   "id": "93f1c4b9-96d5-4558-9914-c852758461ff",
   "metadata": {},
   "outputs": [
    {
     "data": {
      "text/plain": [
       "array(['US', 'CA', 'BE', 'GB', 'CH', 'GR', 'SG', 'SK', 'FR', 'NL', 'CZ',\n",
       "       'NZ', 'AU', 'ES', 'IN', 'PL', 'DE', 'IT', 'AT', 'HR', 'FI', 'PR',\n",
       "       'AR', 'PT', 'BR', 'LT', 'IE', 'PH', 'RO', 'ML', 'NO', 'CL', 'MY',\n",
       "       'SV', 'CO', 'DO', 'MX', 'GT', 'CR', 'LV', 'ZA', 'EE', 'EG', 'JO',\n",
       "       'CY', 'UA', 'TH', 'JM', 'JP', 'MT', 'MK', 'SI', 'HK', 'LS', 'ID',\n",
       "       'PE', 'HU', 'PA', 'LU', 'DZ', 'KE', 'CD', 'SE', 'KR', 'TW', 'TR',\n",
       "       'NG', 'DK', 'AE', 'BG', 'RS', 'EC', 'XK', 'ZM', 'AM', 'RW', 'IL',\n",
       "       'LB', 'PK', 'HN', 'VE', 'BM', 'VN', 'GE', 'SA', 'OM', 'BA', 'UG',\n",
       "       'MU', 'QA', 'RU', 'TN', 'GH', 'AD', 'MD', 'UZ', 'CF', 'KW', 'IR',\n",
       "       'AS', 'CN', 'BO', 'IQ', 'JE'], dtype=object)"
      ]
     },
     "execution_count": 15,
     "metadata": {},
     "output_type": "execute_result"
    }
   ],
   "source": [
    "df['employee_residence'].unique()"
   ]
  },
  {
   "cell_type": "code",
   "execution_count": 16,
   "id": "f9e88f43-cf12-4787-b344-72c36ca9ec85",
   "metadata": {},
   "outputs": [
    {
     "data": {
      "text/plain": [
       "array(['US', 'CA', 'BE', 'GB', 'CH', 'GR', 'SG', 'SK', 'FR', 'NL', 'CZ',\n",
       "       'NZ', 'AU', 'ES', 'IN', 'PL', 'DE', 'IT', 'AT', 'HR', 'FI', 'PR',\n",
       "       'AR', 'PT', 'BR', 'LT', 'IE', 'PH', 'RO', 'ML', 'NO', 'CL', 'MY',\n",
       "       'SV', 'CO', 'DO', 'MX', 'GT', 'CR', 'LV', 'ZA', 'EE', 'EG', 'JO',\n",
       "       'CY', 'UA', 'TH', 'JM', 'JP', 'MT', 'MK', 'SI', 'HK', 'LS', 'PE',\n",
       "       'HU', 'PA', 'LU', 'DZ', 'KE', 'CD', 'SE', 'KR', 'TW', 'TR', 'DK',\n",
       "       'AE', 'BG', 'ID', 'RS', 'EC', 'XK', 'ZM', 'AM', 'IL', 'LB', 'NG',\n",
       "       'PK', 'HN', 'VE', 'AS', 'SA', 'OM', 'BA', 'VN', 'GI', 'MU', 'RU',\n",
       "       'QA', 'GH', 'AD', 'CF', 'IR', 'BS', 'IQ', 'CN', 'MD'], dtype=object)"
      ]
     },
     "execution_count": 16,
     "metadata": {},
     "output_type": "execute_result"
    }
   ],
   "source": [
    "df['company_location'].unique()"
   ]
  },
  {
   "cell_type": "code",
   "execution_count": 17,
   "id": "506b77ad-14f7-455d-8aea-1bc87a6ff73c",
   "metadata": {},
   "outputs": [
    {
     "data": {
      "text/plain": [
       "array(['M', 'L', 'S'], dtype=object)"
      ]
     },
     "execution_count": 17,
     "metadata": {},
     "output_type": "execute_result"
    }
   ],
   "source": [
    "df['company_size'].unique()"
   ]
  },
  {
   "cell_type": "code",
   "execution_count": 18,
   "id": "af4b509f-108d-4dd9-bd18-3c02ce269c31",
   "metadata": {},
   "outputs": [
    {
     "data": {
      "text/plain": [
       "array([  0, 100,  50], dtype=int64)"
      ]
     },
     "execution_count": 18,
     "metadata": {},
     "output_type": "execute_result"
    }
   ],
   "source": [
    "df['remote_ratio'].unique()"
   ]
  },
  {
   "cell_type": "code",
   "execution_count": 19,
   "id": "ebb37ef3-3d27-46a5-8ea5-9f64a5baed83",
   "metadata": {},
   "outputs": [],
   "source": [
    "#df.to_csv('salaries.csv', index=False)"
   ]
  },
  {
   "cell_type": "markdown",
   "id": "2e69baed-2efd-4edc-bcce-f99f28f51b89",
   "metadata": {},
   "source": [
    "## Splitting the Data for Predictive Analysis"
   ]
  },
  {
   "cell_type": "code",
   "execution_count": 40,
   "id": "b3889b6e-5d9c-49d5-a014-cfd24707134a",
   "metadata": {},
   "outputs": [],
   "source": [
    "from sklearn.model_selection import train_test_split"
   ]
  },
  {
   "cell_type": "code",
   "execution_count": 41,
   "id": "36da1296-4dc5-4412-b056-c60851eb5850",
   "metadata": {},
   "outputs": [],
   "source": [
    "X = df.drop(columns=['salary_in_usd'])"
   ]
  },
  {
   "cell_type": "code",
   "execution_count": 44,
   "id": "7f13d276-c639-4350-a92e-3d7855975fc2",
   "metadata": {},
   "outputs": [],
   "source": [
    "y = df['salary_in_usd']"
   ]
  },
  {
   "cell_type": "code",
   "execution_count": 46,
   "id": "ae3bd489-0d29-405c-a75d-8677c935b2b1",
   "metadata": {},
   "outputs": [],
   "source": [
    "X_train, X_test, y_train, y_test = train_test_split(X, y, test_size=0.2, random_state=42)"
   ]
  },
  {
   "cell_type": "code",
   "execution_count": null,
   "id": "50d00de7-2d5c-4ff4-a4d5-0747b3fb7c2c",
   "metadata": {},
   "outputs": [],
   "source": []
  },
  {
   "cell_type": "code",
   "execution_count": null,
   "id": "4cdcb283-fd98-4cbc-82db-6bda6b213a94",
   "metadata": {},
   "outputs": [],
   "source": []
  },
  {
   "cell_type": "code",
   "execution_count": null,
   "id": "b3bf68b9-2843-4b9b-9f9f-b31e66712f81",
   "metadata": {},
   "outputs": [],
   "source": []
  }
 ],
 "metadata": {
  "kernelspec": {
   "display_name": "Python 3 (ipykernel)",
   "language": "python",
   "name": "python3"
  },
  "language_info": {
   "codemirror_mode": {
    "name": "ipython",
    "version": 3
   },
   "file_extension": ".py",
   "mimetype": "text/x-python",
   "name": "python",
   "nbconvert_exporter": "python",
   "pygments_lexer": "ipython3",
   "version": "3.12.4"
  }
 },
 "nbformat": 4,
 "nbformat_minor": 5
}
